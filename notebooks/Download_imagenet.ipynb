{
 "cells": [
  {
   "cell_type": "code",
   "execution_count": 1,
   "metadata": {},
   "outputs": [],
   "source": [
    "import tensorflow as tf\n",
    "import matplotlib.pyplot as plt\n",
    "import numpy as np\n",
    "import tensorflow_datasets as tfds\n",
    "import cv2"
   ]
  },
  {
   "cell_type": "code",
   "execution_count": 2,
   "metadata": {},
   "outputs": [],
   "source": [
    "def resize_with_aspect_ratio(image, MAX_SIZE):\n",
    "\n",
    "    H, W = image.shape[0:2]\n",
    "    \n",
    "    # Take the greater value, and use it for the ratio\n",
    "    max_ = np.min([H, W])\n",
    "    ratio = max_ / MAX_SIZE\n",
    "\n",
    "    W_ = W / ratio\n",
    "    H_ = H / ratio\n",
    "\n",
    "    W_, H_ = W_.astype(np.int32), H_.astype(np.int32)\n",
    "    image = cv2.resize(image, (W_,H_), interpolation=cv2.INTER_AREA)\n",
    "    \n",
    "    H, W = image.shape[0:2]\n",
    "    \n",
    "    if H > MAX_SIZE:\n",
    "        margin = H - MAX_SIZE\n",
    "        start_y = margin // 2\n",
    "        image = image[start_y:start_y+MAX_SIZE, 0:W]\n",
    "    elif W > MAX_SIZE:\n",
    "        margin = W - MAX_SIZE\n",
    "        start_y = margin // 2\n",
    "        image =  image[:H, start_y: start_y+MAX_SIZE]\n",
    "    return image"
   ]
  },
  {
   "cell_type": "code",
   "execution_count": 3,
   "metadata": {},
   "outputs": [],
   "source": [
    "def process_tfds(features):\n",
    "    image = features[\"image\"]\n",
    "    target = features[\"label\"]\n",
    "    return tf.cast(image, tf.float32), tf.squeeze(target)"
   ]
  },
  {
   "cell_type": "code",
   "execution_count": 4,
   "metadata": {},
   "outputs": [],
   "source": [
    "train_dataset = tfds.load(name=\"imagenet2012\", split=tfds.Split.TRAIN)\n",
    "train_dataset = train_dataset.map(process_tfds)\n",
    "train_dataset = train_dataset.repeat(1)\n",
    "train_dataset = train_dataset.batch(1)"
   ]
  },
  {
   "cell_type": "code",
   "execution_count": 5,
   "metadata": {},
   "outputs": [],
   "source": [
    "classes_dog_and_cat = np.arange(151, 294, dtype=np.int32)\n",
    "\n",
    "class_to_index = dict()\n",
    "for i, c in enumerate(classes_dog_and_cat):\n",
    "    class_to_index[c] = i"
   ]
  },
  {
   "cell_type": "code",
   "execution_count": 33,
   "metadata": {},
   "outputs": [
    {
     "data": {
      "text/plain": [
       "135"
      ]
     },
     "execution_count": 33,
     "metadata": {},
     "output_type": "execute_result"
    }
   ],
   "source": [
    "class_to_index[286]"
   ]
  },
  {
   "cell_type": "code",
   "execution_count": 6,
   "metadata": {},
   "outputs": [],
   "source": [
    "def _bytes_feature(value):\n",
    "    return tf.train.Feature(bytes_list=tf.train.BytesList(value=[value]))\n",
    "\n",
    "def _int64_feature(value):\n",
    "    return tf.train.Feature(int64_list=tf.train.Int64List(value=[value]))"
   ]
  },
  {
   "cell_type": "code",
   "execution_count": 7,
   "metadata": {},
   "outputs": [],
   "source": [
    "import os\n",
    "import tensorflow as tf\n",
    "\n",
    "TRAIN_DATASET_DIR=\"./tfrecords/\"\n",
    "if not os.path.exists(TRAIN_DATASET_DIR):\n",
    "    os.mkdir(TRAIN_DATASET_DIR)\n",
    "    \n",
    "TRAIN_FILE = 'train.tfrecords'\n",
    "train_writer = tf.io.TFRecordWriter(os.path.join(TRAIN_DATASET_DIR,TRAIN_FILE))"
   ]
  },
  {
   "cell_type": "code",
   "execution_count": 8,
   "metadata": {},
   "outputs": [
    {
     "name": "stdout",
     "output_type": "stream",
     "text": [
      "Done!\n"
     ]
    }
   ],
   "source": [
    "n_images = 0\n",
    "image_size = 64\n",
    "\n",
    "for image, label in train_dataset:\n",
    "    label = label.numpy()[0]\n",
    "    if label in classes_dog_and_cat:\n",
    "        image = resize_with_aspect_ratio(image.numpy()[0], image_size)\n",
    "    \n",
    "        image_h = image.shape[0]\n",
    "        image_w = image.shape[1]\n",
    "        img_raw = image.astype(np.float32).tostring()\n",
    "        target = class_to_index[label]\n",
    "\n",
    "        example = tf.train.Example(features=tf.train.Features(feature={\n",
    "                                    'height': _int64_feature(image_h),\n",
    "                                    'width': _int64_feature(image_w),\n",
    "                                    'image_raw': _bytes_feature(img_raw),\n",
    "                                    'target': _int64_feature(target)}))\n",
    "\n",
    "        train_writer.write(example.SerializeToString())\n",
    "        n_images+=1\n",
    "        \n",
    "print(\"Done!\")\n",
    "train_writer.close()"
   ]
  },
  {
   "cell_type": "code",
   "execution_count": 9,
   "metadata": {},
   "outputs": [
    {
     "data": {
      "text/plain": [
       "180373"
      ]
     },
     "execution_count": 9,
     "metadata": {},
     "output_type": "execute_result"
    }
   ],
   "source": [
    "n_images"
   ]
  },
  {
   "cell_type": "code",
   "execution_count": 19,
   "metadata": {},
   "outputs": [],
   "source": [
    "def tf_record_parser(record):\n",
    "    keys_to_features = {\n",
    "        \"image_raw\": tf.io.FixedLenFeature((), tf.string, default_value=\"\"),\n",
    "        'target': tf.io.FixedLenFeature((), tf.int64)\n",
    "    }\n",
    "\n",
    "    features = tf.io.parse_single_example(record, keys_to_features)\n",
    "\n",
    "    image = tf.io.decode_raw(features['image_raw'], tf.float32)\n",
    "    label = tf.cast(features['target'], tf.int32)\n",
    "\n",
    "    # reshape input and annotation images\n",
    "    image = tf.reshape(image, (64, 64, 3), name=\"image_reshape\")\n",
    "\n",
    "    return image, tf.cast(label, tf.int32)"
   ]
  },
  {
   "cell_type": "code",
   "execution_count": 20,
   "metadata": {},
   "outputs": [],
   "source": [
    "train_dataset = tf.data.TFRecordDataset(\"./tfrecords/train.tfrecords\")\n",
    "train_dataset = train_dataset.map(tf_record_parser)\n",
    "train_dataset = train_dataset.repeat(1)\n",
    "train_dataset = train_dataset.batch(1)"
   ]
  },
  {
   "cell_type": "code",
   "execution_count": 38,
   "metadata": {},
   "outputs": [
    {
     "name": "stdout",
     "output_type": "stream",
     "text": [
      "20.47129 254.4475\n"
     ]
    }
   ],
   "source": [
    "classes = []\n",
    "for image, label in train_dataset:\n",
    "    if label.numpy()[0] == 133:\n",
    "        print(np.min(image), np.max(image))\n",
    "        plt.imshow(image[0]/255)\n",
    "        plt.show()"
   ]
  },
  {
   "cell_type": "code",
   "execution_count": 37,
   "metadata": {},
   "outputs": [
    {
     "data": {
      "image/png": "[encoded data removed]",
      "text/plain": [
       "<Figure size 432x288 with 1 Axes>"
      ]
     },
     "metadata": {
      "needs_background": "light"
     },
     "output_type": "display_data"
    }
   ],
   "source": [
    "_ = plt.hist(classes, bins=143)"
   ]
  },
  {
   "cell_type": "code",
   "execution_count": null,
   "metadata": {},
   "outputs": [],
   "source": []
  }
 ],
 "metadata": {
  "kernelspec": {
   "display_name": "tf2.0_cpu",
   "language": "python",
   "name": "tf2.0_cpu"
  },
  "language_info": {
   "codemirror_mode": {
    "name": "ipython",
    "version": 3
   },
   "file_extension": ".py",
   "mimetype": "text/x-python",
   "name": "python",
   "nbconvert_exporter": "python",
   "pygments_lexer": "ipython3",
   "version": "3.6.8"
  }
 },
 "nbformat": 4,
 "nbformat_minor": 2
}
